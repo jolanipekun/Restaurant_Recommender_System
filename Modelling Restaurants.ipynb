{
 "cells": [
  {
   "cell_type": "markdown",
   "metadata": {},
   "source": [
    "### <a class=\"anchor\" id=\"Rank\">Executive Summary</a>"
   ]
  },
  {
   "cell_type": "markdown",
   "metadata": {},
   "source": [
    "The goal of this project is to build a Restaurant Recommender System, which offers restuarant recommendation to users in the city of London\n",
    "\n",
    "The metrics of the Recommender System is the accuracy of the systems models built:\n",
    "I. Rank-based Recommender System\n",
    "II. Content-based Recommender System\n",
    "III. Collaborative-Fitering Recommender System with Surpise - SVD\n",
    "\n",
    "The limitations of this project are \n",
    "I. Its is computationally expensive\n",
    "II. Extremtly large data size\n",
    "       \n",
    "\n"
   ]
  },
  {
   "cell_type": "markdown",
   "metadata": {},
   "source": [
    "# Loading the Data & Organizing Catergories"
   ]
  },
  {
   "cell_type": "markdown",
   "metadata": {},
   "source": [
    "Two datasets were used in this; I. 'Food' Dataset: A dataset constituting of restaurants on in London.\n",
    "II. 'Users' Dataset: A dataset constituting of user ratings of restaurants in London."
   ]
  },
  {
   "cell_type": "code",
   "execution_count": 84,
   "metadata": {},
   "outputs": [],
   "source": [
    "import pandas as pd\n",
    "import numpy as np\n",
    "import scipy.stats as stats\n",
    "import seaborn as sns\n",
    "import matplotlib.pyplot as plt\n",
    "import pandas as pd\n",
    "import re\n",
    "\n",
    "sns.set(font_scale=1.5)\n",
    "%config InlineBackend.figure_format = 'retina'\n",
    "%matplotlib inline\n",
    "\n",
    "# this line tells jupyter notebook to put the plots in the notebook rather than saving them to file\n",
    "%matplotlib inline\n",
    "\n",
    "# this line makes plots prettier on mac retina screens - if you don't have one it shouldn't do anything\n",
    "%config InlineBackend.figure_format = 'retina'"
   ]
  },
  {
   "cell_type": "code",
   "execution_count": 97,
   "metadata": {},
   "outputs": [
    {
     "data": {
      "text/plain": [
       "(1532640, 3)"
      ]
     },
     "execution_count": 97,
     "metadata": {},
     "output_type": "execute_result"
    }
   ],
   "source": [
    "users = pd.read_csv('users.csv')\n",
    "del users['Unnamed: 0']\n",
    "users.shape"
   ]
  },
  {
   "cell_type": "code",
   "execution_count": 88,
   "metadata": {},
   "outputs": [
    {
     "data": {
      "text/html": [
       "<div>\n",
       "<style scoped>\n",
       "    .dataframe tbody tr th:only-of-type {\n",
       "        vertical-align: middle;\n",
       "    }\n",
       "\n",
       "    .dataframe tbody tr th {\n",
       "        vertical-align: top;\n",
       "    }\n",
       "\n",
       "    .dataframe thead th {\n",
       "        text-align: right;\n",
       "    }\n",
       "</style>\n",
       "<table border=\"1\" class=\"dataframe\">\n",
       "  <thead>\n",
       "    <tr style=\"text-align: right;\">\n",
       "      <th></th>\n",
       "      <th>Name</th>\n",
       "      <th>Review</th>\n",
       "      <th>Rating</th>\n",
       "      <th>Category 1</th>\n",
       "      <th>Category 2</th>\n",
       "    </tr>\n",
       "  </thead>\n",
       "  <tbody>\n",
       "    <tr>\n",
       "      <th>0</th>\n",
       "      <td>Amrutha Lounge</td>\n",
       "      <td>425 reviews</td>\n",
       "      <td>5 of 5 bubbles</td>\n",
       "      <td>Indian</td>\n",
       "      <td>££ - £££\\nIndian\\nAsian\\nHealthy\\nVegetarian F...</td>\n",
       "    </tr>\n",
       "    <tr>\n",
       "      <th>1</th>\n",
       "      <td>Barge East</td>\n",
       "      <td>184 reviews</td>\n",
       "      <td>5 of 5 bubbles</td>\n",
       "      <td>European</td>\n",
       "      <td>££ - £££\\nEuropean\\nBritish\\nContemporary\\nFus...</td>\n",
       "    </tr>\n",
       "  </tbody>\n",
       "</table>\n",
       "</div>"
      ],
      "text/plain": [
       "             Name       Review          Rating Category 1  \\\n",
       "0  Amrutha Lounge  425 reviews  5 of 5 bubbles     Indian   \n",
       "1      Barge East  184 reviews  5 of 5 bubbles   European   \n",
       "\n",
       "                                          Category 2  \n",
       "0  ££ - £££\\nIndian\\nAsian\\nHealthy\\nVegetarian F...  \n",
       "1  ££ - £££\\nEuropean\\nBritish\\nContemporary\\nFus...  "
      ]
     },
     "execution_count": 88,
     "metadata": {},
     "output_type": "execute_result"
    }
   ],
   "source": [
    "food = pd.read_csv('restau_london_final.csv')\n",
    "del food['Unnamed: 0']\n",
    "del food['Url']\n",
    "food.head(2)"
   ]
  },
  {
   "cell_type": "code",
   "execution_count": 96,
   "metadata": {},
   "outputs": [
    {
     "data": {
      "text/plain": [
       "14424"
      ]
     },
     "execution_count": 96,
     "metadata": {},
     "output_type": "execute_result"
    }
   ],
   "source": [
    "food.Restaurant.nunique()"
   ]
  },
  {
   "cell_type": "code",
   "execution_count": 89,
   "metadata": {},
   "outputs": [
    {
     "data": {
      "text/html": [
       "<div>\n",
       "<style scoped>\n",
       "    .dataframe tbody tr th:only-of-type {\n",
       "        vertical-align: middle;\n",
       "    }\n",
       "\n",
       "    .dataframe tbody tr th {\n",
       "        vertical-align: top;\n",
       "    }\n",
       "\n",
       "    .dataframe thead th {\n",
       "        text-align: right;\n",
       "    }\n",
       "</style>\n",
       "<table border=\"1\" class=\"dataframe\">\n",
       "  <thead>\n",
       "    <tr style=\"text-align: right;\">\n",
       "      <th></th>\n",
       "      <th>Name</th>\n",
       "      <th>Review</th>\n",
       "      <th>Rating</th>\n",
       "      <th>Category 1</th>\n",
       "      <th>Category 2</th>\n",
       "      <th>Description</th>\n",
       "    </tr>\n",
       "  </thead>\n",
       "  <tbody>\n",
       "    <tr>\n",
       "      <th>0</th>\n",
       "      <td>Amrutha Lounge</td>\n",
       "      <td>425</td>\n",
       "      <td>5.0</td>\n",
       "      <td>Indian</td>\n",
       "      <td>Indian Asian Healthy Vegetarian Friendly Vegan...</td>\n",
       "      <td>Indian Asian Healthy Vegetarian Friendly Vegan...</td>\n",
       "    </tr>\n",
       "    <tr>\n",
       "      <th>1</th>\n",
       "      <td>Barge East</td>\n",
       "      <td>184</td>\n",
       "      <td>5.0</td>\n",
       "      <td>European</td>\n",
       "      <td>European British Contemporary Fusion Vegetaria...</td>\n",
       "      <td>European British Contemporary Fusion Vegetaria...</td>\n",
       "    </tr>\n",
       "  </tbody>\n",
       "</table>\n",
       "</div>"
      ],
      "text/plain": [
       "             Name  Review  Rating Category 1  \\\n",
       "0  Amrutha Lounge     425     5.0     Indian   \n",
       "1      Barge East     184     5.0   European   \n",
       "\n",
       "                                          Category 2  \\\n",
       "0  Indian Asian Healthy Vegetarian Friendly Vegan...   \n",
       "1  European British Contemporary Fusion Vegetaria...   \n",
       "\n",
       "                                         Description  \n",
       "0  Indian Asian Healthy Vegetarian Friendly Vegan...  \n",
       "1  European British Contemporary Fusion Vegetaria...  "
      ]
     },
     "execution_count": 89,
     "metadata": {},
     "output_type": "execute_result"
    }
   ],
   "source": [
    "food.Review = [int(x.replace(',', '').replace('reviews','').replace('review','')) for x in food.Review]\n",
    "food.Rating = [float(str(x).replace('of 5 bubbles', '')) for x in food.Rating]\n",
    "food['Category 2'] = [str(x).replace('££ - £££\\n','').replace('£\\n', '').replace('£££', '').replace('\\n', ',').replace(',', ' ') for x in food['Category 2']]\n",
    "food['Description'] = food['Category 2']\n",
    "food.head(2)"
   ]
  },
  {
   "cell_type": "code",
   "execution_count": 90,
   "metadata": {},
   "outputs": [],
   "source": [
    "lst = [re.findall('V........n', x) for x in food['Category 2']]\n",
    "\n",
    "new_list = []\n",
    "for i in lst:\n",
    "    try:\n",
    "        if i[0] == 'Vegetarian':\n",
    "            new_list.append('Vegetarian')\n",
    "        else:\n",
    "            new_list.append('Non-Vegetarian')\n",
    "    except:\n",
    "        new_list.append('Non-Vegetarian')\n",
    "        \n",
    "food['Category 2'] = new_list"
   ]
  },
  {
   "cell_type": "code",
   "execution_count": 91,
   "metadata": {},
   "outputs": [
    {
     "data": {
      "text/html": [
       "<div>\n",
       "<style scoped>\n",
       "    .dataframe tbody tr th:only-of-type {\n",
       "        vertical-align: middle;\n",
       "    }\n",
       "\n",
       "    .dataframe tbody tr th {\n",
       "        vertical-align: top;\n",
       "    }\n",
       "\n",
       "    .dataframe thead th {\n",
       "        text-align: right;\n",
       "    }\n",
       "</style>\n",
       "<table border=\"1\" class=\"dataframe\">\n",
       "  <thead>\n",
       "    <tr style=\"text-align: right;\">\n",
       "      <th></th>\n",
       "      <th>Name</th>\n",
       "      <th>Review</th>\n",
       "      <th>Rating</th>\n",
       "      <th>Category 1</th>\n",
       "      <th>Category 2</th>\n",
       "      <th>Description</th>\n",
       "    </tr>\n",
       "  </thead>\n",
       "  <tbody>\n",
       "    <tr>\n",
       "      <th>0</th>\n",
       "      <td>Amrutha Lounge</td>\n",
       "      <td>425</td>\n",
       "      <td>5.0</td>\n",
       "      <td>Asian</td>\n",
       "      <td>Vegetarian</td>\n",
       "      <td>Indian Asian Healthy Vegetarian Friendly Vegan...</td>\n",
       "    </tr>\n",
       "    <tr>\n",
       "      <th>1</th>\n",
       "      <td>Barge East</td>\n",
       "      <td>184</td>\n",
       "      <td>5.0</td>\n",
       "      <td>European</td>\n",
       "      <td>Vegetarian</td>\n",
       "      <td>European British Contemporary Fusion Vegetaria...</td>\n",
       "    </tr>\n",
       "  </tbody>\n",
       "</table>\n",
       "</div>"
      ],
      "text/plain": [
       "             Name  Review  Rating Category 1  Category 2  \\\n",
       "0  Amrutha Lounge     425     5.0      Asian  Vegetarian   \n",
       "1      Barge East     184     5.0   European  Vegetarian   \n",
       "\n",
       "                                         Description  \n",
       "0  Indian Asian Healthy Vegetarian Friendly Vegan...  \n",
       "1  European British Contemporary Fusion Vegetaria...  "
      ]
     },
     "execution_count": 91,
     "metadata": {},
     "output_type": "execute_result"
    }
   ],
   "source": [
    "other = ['Fast food', 'Seafood', 'International', 'Steakhouse', 'Cafe',  'Vegetarian Friendly', 'Street Food',\n",
    "        'Fusion', 'Barbecue', 'Healthy', 'Deli', 'Vegan Options', 'Pizza', 'Sushi', 'Soups', 'Gluten Free Options']\n",
    "east_euro = ['Russian', 'Polish']\n",
    "euro = ['Irish', 'German', 'French', 'Latin', 'Greek', 'Portuguese', 'Italian', 'British', 'Greek', 'Spanish']\n",
    "s_american = ['Peruvian', 'Argentinian', 'Venezuelan', 'Cuban', 'Mexican']\n",
    "african = ['Cajun & Creole', 'Ethiopian']\n",
    "asian = ['Philippine', 'Taiwanese', 'Pakistani', 'Korean', 'Vietnamese', 'Indian', 'Chinese' , 'Malaysian', 'Japanese', 'Thai', 'Burmese', 'Malaysian', 'Korean']\n",
    "med = ['Persian', 'Moroccan', 'Turkish']\n",
    "mid_east = ['Arabic', 'Kosher', 'Halal', 'Lebanese']\n",
    "\n",
    "def classifier_other(x):\n",
    "\n",
    "    if x in other:\n",
    "        return 'General'\n",
    "    elif x in east_euro:\n",
    "        return 'Eastern European'\n",
    "    elif x in euro:\n",
    "        return 'European'\n",
    "    elif x in s_american:\n",
    "        return 'South American'\n",
    "    elif x in african:\n",
    "        return 'African'\n",
    "    elif x in med:\n",
    "        return 'Mediterranean'\n",
    "    elif x in asian:\n",
    "        return 'Asian'\n",
    "    elif x in mid_east:\n",
    "        return 'Middle Eastern'\n",
    "    elif x == 'Jamaican':\n",
    "        return 'Caribbean'\n",
    "    elif x == 'Hawaiian':\n",
    "        return 'American'\n",
    "    else:\n",
    "        return x\n",
    "\n",
    "food['Category 1'] = food['Category 1'].apply(classifier_other)\n",
    "food.head(2)"
   ]
  },
  {
   "cell_type": "code",
   "execution_count": null,
   "metadata": {},
   "outputs": [],
   "source": [
    "food.rename(columns={'Name': 'Restaurant', 'Food_id': 'Restaurant_id'}, inplace=True)\n",
    "\n"
   ]
  },
  {
   "cell_type": "code",
   "execution_count": 93,
   "metadata": {},
   "outputs": [
    {
     "name": "stdout",
     "output_type": "stream",
     "text": [
      "The number of unique food names are 14424\n"
     ]
    },
    {
     "data": {
      "text/html": [
       "<div>\n",
       "<style scoped>\n",
       "    .dataframe tbody tr th:only-of-type {\n",
       "        vertical-align: middle;\n",
       "    }\n",
       "\n",
       "    .dataframe tbody tr th {\n",
       "        vertical-align: top;\n",
       "    }\n",
       "\n",
       "    .dataframe thead th {\n",
       "        text-align: right;\n",
       "    }\n",
       "</style>\n",
       "<table border=\"1\" class=\"dataframe\">\n",
       "  <thead>\n",
       "    <tr style=\"text-align: right;\">\n",
       "      <th></th>\n",
       "      <th>Name</th>\n",
       "      <th>Restaurant_id</th>\n",
       "      <th>Review</th>\n",
       "      <th>Rating</th>\n",
       "      <th>Category 1</th>\n",
       "      <th>Category 2</th>\n",
       "      <th>Description</th>\n",
       "    </tr>\n",
       "  </thead>\n",
       "  <tbody>\n",
       "    <tr>\n",
       "      <th>0</th>\n",
       "      <td>Amrutha Lounge</td>\n",
       "      <td>1</td>\n",
       "      <td>425</td>\n",
       "      <td>5.0</td>\n",
       "      <td>Asian</td>\n",
       "      <td>Vegetarian</td>\n",
       "      <td>Indian Asian Healthy Vegetarian Friendly Vegan...</td>\n",
       "    </tr>\n",
       "    <tr>\n",
       "      <th>1</th>\n",
       "      <td>Barge East</td>\n",
       "      <td>2</td>\n",
       "      <td>184</td>\n",
       "      <td>5.0</td>\n",
       "      <td>European</td>\n",
       "      <td>Vegetarian</td>\n",
       "      <td>European British Contemporary Fusion Vegetaria...</td>\n",
       "    </tr>\n",
       "    <tr>\n",
       "      <th>2</th>\n",
       "      <td>Latitude</td>\n",
       "      <td>3</td>\n",
       "      <td>78</td>\n",
       "      <td>5.0</td>\n",
       "      <td>European</td>\n",
       "      <td>Vegetarian</td>\n",
       "      <td>European International British Vegetarian Frie...</td>\n",
       "    </tr>\n",
       "    <tr>\n",
       "      <th>3</th>\n",
       "      <td>Dobar</td>\n",
       "      <td>4</td>\n",
       "      <td>107</td>\n",
       "      <td>5.0</td>\n",
       "      <td>General</td>\n",
       "      <td>Vegetarian</td>\n",
       "      <td>Pizza Cafe British Vegetarian Friendly Vegan O...</td>\n",
       "    </tr>\n",
       "    <tr>\n",
       "      <th>4</th>\n",
       "      <td>Chojo</td>\n",
       "      <td>5</td>\n",
       "      <td>199</td>\n",
       "      <td>5.0</td>\n",
       "      <td>Asian</td>\n",
       "      <td>Vegetarian</td>\n",
       "      <td>Chinese Taiwanese Street Food Vegetarian Frien...</td>\n",
       "    </tr>\n",
       "  </tbody>\n",
       "</table>\n",
       "</div>"
      ],
      "text/plain": [
       "             Name  Restaurant_id  Review  Rating Category 1  Category 2  \\\n",
       "0  Amrutha Lounge              1     425     5.0      Asian  Vegetarian   \n",
       "1      Barge East              2     184     5.0   European  Vegetarian   \n",
       "2        Latitude              3      78     5.0   European  Vegetarian   \n",
       "3           Dobar              4     107     5.0    General  Vegetarian   \n",
       "4           Chojo              5     199     5.0      Asian  Vegetarian   \n",
       "\n",
       "                                         Description  \n",
       "0  Indian Asian Healthy Vegetarian Friendly Vegan...  \n",
       "1  European British Contemporary Fusion Vegetaria...  \n",
       "2  European International British Vegetarian Frie...  \n",
       "3  Pizza Cafe British Vegetarian Friendly Vegan O...  \n",
       "4  Chinese Taiwanese Street Food Vegetarian Frien...  "
      ]
     },
     "execution_count": 93,
     "metadata": {},
     "output_type": "execute_result"
    }
   ],
   "source": [
    "#Creating unique ids for restaurant names\n",
    "print('The number of unique food names are {}' .format(food['Name'].nunique()))\n",
    "\n",
    "\n",
    "#Dictionary for mapping restuarant to unique ids\n",
    "restaurant_dict = {}\n",
    "\n",
    "\n",
    "for id, name in enumerate(food['Name'].unique(), 1):\n",
    "    \n",
    "    restaurant_dict[name] = id\n",
    "    \n",
    "food['Restaurant_id'] = food['Name'].map(restaurant_dict)\n",
    "food.head()\n",
    "\n",
    "#Rearranging columns to have food_id with name\n",
    "new_order = [0, 6, 1, 2, 3, 4, 5]\n",
    "\n",
    "food = food[food.columns[new_order]]\n",
    "\n",
    "food.head()\n"
   ]
  },
  {
   "cell_type": "code",
   "execution_count": 94,
   "metadata": {},
   "outputs": [
    {
     "data": {
      "text/html": [
       "<div>\n",
       "<style scoped>\n",
       "    .dataframe tbody tr th:only-of-type {\n",
       "        vertical-align: middle;\n",
       "    }\n",
       "\n",
       "    .dataframe tbody tr th {\n",
       "        vertical-align: top;\n",
       "    }\n",
       "\n",
       "    .dataframe thead th {\n",
       "        text-align: right;\n",
       "    }\n",
       "</style>\n",
       "<table border=\"1\" class=\"dataframe\">\n",
       "  <thead>\n",
       "    <tr style=\"text-align: right;\">\n",
       "      <th></th>\n",
       "      <th>Restaurant</th>\n",
       "      <th>Restaurant_id</th>\n",
       "      <th>Review</th>\n",
       "      <th>Rating</th>\n",
       "      <th>Category 1</th>\n",
       "      <th>Category 2</th>\n",
       "      <th>Description</th>\n",
       "    </tr>\n",
       "  </thead>\n",
       "  <tbody>\n",
       "    <tr>\n",
       "      <th>0</th>\n",
       "      <td>Amrutha Lounge</td>\n",
       "      <td>1</td>\n",
       "      <td>425</td>\n",
       "      <td>5.0</td>\n",
       "      <td>Asian</td>\n",
       "      <td>Vegetarian</td>\n",
       "      <td>Indian Asian Healthy Vegetarian Friendly Vegan...</td>\n",
       "    </tr>\n",
       "    <tr>\n",
       "      <th>1</th>\n",
       "      <td>Barge East</td>\n",
       "      <td>2</td>\n",
       "      <td>184</td>\n",
       "      <td>5.0</td>\n",
       "      <td>European</td>\n",
       "      <td>Vegetarian</td>\n",
       "      <td>European British Contemporary Fusion Vegetaria...</td>\n",
       "    </tr>\n",
       "    <tr>\n",
       "      <th>2</th>\n",
       "      <td>Latitude</td>\n",
       "      <td>3</td>\n",
       "      <td>78</td>\n",
       "      <td>5.0</td>\n",
       "      <td>European</td>\n",
       "      <td>Vegetarian</td>\n",
       "      <td>European International British Vegetarian Frie...</td>\n",
       "    </tr>\n",
       "    <tr>\n",
       "      <th>3</th>\n",
       "      <td>Dobar</td>\n",
       "      <td>4</td>\n",
       "      <td>107</td>\n",
       "      <td>5.0</td>\n",
       "      <td>General</td>\n",
       "      <td>Vegetarian</td>\n",
       "      <td>Pizza Cafe British Vegetarian Friendly Vegan O...</td>\n",
       "    </tr>\n",
       "    <tr>\n",
       "      <th>4</th>\n",
       "      <td>Chojo</td>\n",
       "      <td>5</td>\n",
       "      <td>199</td>\n",
       "      <td>5.0</td>\n",
       "      <td>Asian</td>\n",
       "      <td>Vegetarian</td>\n",
       "      <td>Chinese Taiwanese Street Food Vegetarian Frien...</td>\n",
       "    </tr>\n",
       "  </tbody>\n",
       "</table>\n",
       "</div>"
      ],
      "text/plain": [
       "       Restaurant  Restaurant_id  Review  Rating Category 1  Category 2  \\\n",
       "0  Amrutha Lounge              1     425     5.0      Asian  Vegetarian   \n",
       "1      Barge East              2     184     5.0   European  Vegetarian   \n",
       "2        Latitude              3      78     5.0   European  Vegetarian   \n",
       "3           Dobar              4     107     5.0    General  Vegetarian   \n",
       "4           Chojo              5     199     5.0      Asian  Vegetarian   \n",
       "\n",
       "                                         Description  \n",
       "0  Indian Asian Healthy Vegetarian Friendly Vegan...  \n",
       "1  European British Contemporary Fusion Vegetaria...  \n",
       "2  European International British Vegetarian Frie...  \n",
       "3  Pizza Cafe British Vegetarian Friendly Vegan O...  \n",
       "4  Chinese Taiwanese Street Food Vegetarian Frien...  "
      ]
     },
     "execution_count": 94,
     "metadata": {},
     "output_type": "execute_result"
    }
   ],
   "source": [
    "food.rename(columns={'Name': 'Restaurant', 'Food_id': 'Restaurant_id'}, inplace=True)\n",
    "food.head()"
   ]
  },
  {
   "cell_type": "code",
   "execution_count": 13,
   "metadata": {},
   "outputs": [
    {
     "name": "stdout",
     "output_type": "stream",
     "text": [
      "The number of food categories is 134.\n"
     ]
    }
   ],
   "source": [
    "#Gathering unique set of all food categories\n",
    "\n",
    "categories_list = []\n",
    "\n",
    "for i in food['Description']:\n",
    "    \n",
    "    try:\n",
    "        \n",
    "        categories_list.extend(i.split(' '))\n",
    "        \n",
    "    except AttributeError:\n",
    "        \n",
    "        pass\n",
    "    \n",
    "\n",
    "# Our unique set of food categories\n",
    "categories = set(categories_list)\n",
    "\n",
    "print(\"The number of food categories is {}.\".format(len(categories)))"
   ]
  },
  {
   "cell_type": "code",
   "execution_count": 14,
   "metadata": {},
   "outputs": [],
   "source": [
    "# Function to split and return values for columns\n",
    "def split_categories(val):\n",
    "    try:\n",
    "        if val.find(category) >-1:\n",
    "            return 1\n",
    "        else:\n",
    "            return 0\n",
    "    except AttributeError:\n",
    "        return 0\n",
    "\n",
    "# Apply function for each category\n",
    "for category in categories:        \n",
    "    food[category] = food['Description'].apply(split_categories)\n",
    "    \n",
    "#food.set_index(['Food_id'])"
   ]
  },
  {
   "cell_type": "code",
   "execution_count": 16,
   "metadata": {},
   "outputs": [],
   "source": [
    "#Saving dictionary to ensure consistency when used in users dataframe\n",
    "import pickle\n",
    "f = open(\"restaurant_dict.pkl\",\"wb\")\n",
    "pickle.dump(restaurant_dict,f)\n",
    "f.close()"
   ]
  },
  {
   "cell_type": "code",
   "execution_count": 17,
   "metadata": {},
   "outputs": [
    {
     "data": {
      "text/html": [
       "<div>\n",
       "<style scoped>\n",
       "    .dataframe tbody tr th:only-of-type {\n",
       "        vertical-align: middle;\n",
       "    }\n",
       "\n",
       "    .dataframe tbody tr th {\n",
       "        vertical-align: top;\n",
       "    }\n",
       "\n",
       "    .dataframe thead th {\n",
       "        text-align: right;\n",
       "    }\n",
       "</style>\n",
       "<table border=\"1\" class=\"dataframe\">\n",
       "  <thead>\n",
       "    <tr style=\"text-align: right;\">\n",
       "      <th></th>\n",
       "      <th>Name</th>\n",
       "      <th>User_id</th>\n",
       "      <th>Restaurant</th>\n",
       "      <th>Restaurant_id</th>\n",
       "      <th>Rating</th>\n",
       "    </tr>\n",
       "  </thead>\n",
       "  <tbody>\n",
       "    <tr>\n",
       "      <th>0</th>\n",
       "      <td>Dr_Rebecca_PLondon, United Kingdom</td>\n",
       "      <td>1</td>\n",
       "      <td>Street Feast Model Market</td>\n",
       "      <td>3468</td>\n",
       "      <td>4.0</td>\n",
       "    </tr>\n",
       "    <tr>\n",
       "      <th>1</th>\n",
       "      <td>Karen GKent, United Kingdom</td>\n",
       "      <td>2</td>\n",
       "      <td>Street Feast Model Market</td>\n",
       "      <td>3468</td>\n",
       "      <td>2.0</td>\n",
       "    </tr>\n",
       "  </tbody>\n",
       "</table>\n",
       "</div>"
      ],
      "text/plain": [
       "                                 Name  User_id                 Restaurant  \\\n",
       "0  Dr_Rebecca_PLondon, United Kingdom        1  Street Feast Model Market   \n",
       "1         Karen GKent, United Kingdom        2  Street Feast Model Market   \n",
       "\n",
       "   Restaurant_id  Rating  \n",
       "0           3468     4.0  \n",
       "1           3468     2.0  "
      ]
     },
     "execution_count": 17,
     "metadata": {},
     "output_type": "execute_result"
    }
   ],
   "source": [
    "# loading the other dataset\n",
    "\n",
    "users = pd.read_csv('users_names.csv')\n",
    "del users['Unnamed: 0']\n",
    "users.head(2)"
   ]
  },
  {
   "cell_type": "code",
   "execution_count": 18,
   "metadata": {},
   "outputs": [
    {
     "name": "stdout",
     "output_type": "stream",
     "text": [
      "14424 \n",
      " 13586 13520 13520\n"
     ]
    }
   ],
   "source": [
    "3468 in list(restaurant_dict.values())\n",
    "\n",
    "restaurant_dict['Street Feast Model Market']\n",
    "\n",
    "unique_dict = set(restaurant_dict.keys())\n",
    "unique_rest_users = set(users['Restaurant'].unique())\n",
    "\n",
    "intersection_dict = len(unique_dict.intersection(unique_rest_users))\n",
    "intersection_users = len(unique_rest_users.intersection(unique_dict))\n",
    "\n",
    "\n",
    "print(len(unique_dict), '\\n', len(unique_rest_users), intersection_dict, intersection_users)"
   ]
  },
  {
   "cell_type": "code",
   "execution_count": 19,
   "metadata": {},
   "outputs": [
    {
     "data": {
      "text/html": [
       "<div>\n",
       "<style scoped>\n",
       "    .dataframe tbody tr th:only-of-type {\n",
       "        vertical-align: middle;\n",
       "    }\n",
       "\n",
       "    .dataframe tbody tr th {\n",
       "        vertical-align: top;\n",
       "    }\n",
       "\n",
       "    .dataframe thead th {\n",
       "        text-align: right;\n",
       "    }\n",
       "</style>\n",
       "<table border=\"1\" class=\"dataframe\">\n",
       "  <thead>\n",
       "    <tr style=\"text-align: right;\">\n",
       "      <th></th>\n",
       "      <th>Name</th>\n",
       "      <th>User_id</th>\n",
       "      <th>Restaurant</th>\n",
       "      <th>Restaurant_id</th>\n",
       "      <th>Rating</th>\n",
       "    </tr>\n",
       "  </thead>\n",
       "  <tbody>\n",
       "    <tr>\n",
       "      <th>0</th>\n",
       "      <td>Dr_Rebecca_PLondon, United Kingdom</td>\n",
       "      <td>1</td>\n",
       "      <td>Street Feast Model Market</td>\n",
       "      <td>3468</td>\n",
       "      <td>4.0</td>\n",
       "    </tr>\n",
       "    <tr>\n",
       "      <th>1</th>\n",
       "      <td>Karen GKent, United Kingdom</td>\n",
       "      <td>2</td>\n",
       "      <td>Street Feast Model Market</td>\n",
       "      <td>3468</td>\n",
       "      <td>2.0</td>\n",
       "    </tr>\n",
       "  </tbody>\n",
       "</table>\n",
       "</div>"
      ],
      "text/plain": [
       "                                 Name  User_id                 Restaurant  \\\n",
       "0  Dr_Rebecca_PLondon, United Kingdom        1  Street Feast Model Market   \n",
       "1         Karen GKent, United Kingdom        2  Street Feast Model Market   \n",
       "\n",
       "   Restaurant_id  Rating  \n",
       "0           3468     4.0  \n",
       "1           3468     2.0  "
      ]
     },
     "execution_count": 19,
     "metadata": {},
     "output_type": "execute_result"
    }
   ],
   "source": [
    "users.Restaurant_id = users.Restaurant_id.sort_values(ascending=True)\n",
    "users.head(2)"
   ]
  },
  {
   "cell_type": "markdown",
   "metadata": {},
   "source": [
    "## <a class=\"anchor\" id=\"Rank\">Simple EDA</a>"
   ]
  },
  {
   "cell_type": "code",
   "execution_count": 30,
   "metadata": {},
   "outputs": [],
   "source": [
    "# we do some simple eda to have an idea of the average amount of time each user has rated a restaurant\n",
    "\n",
    "groupby=users.groupby(['User_id']).count()"
   ]
  },
  {
   "cell_type": "code",
   "execution_count": 32,
   "metadata": {},
   "outputs": [],
   "source": [
    "groupby['log_counts']=groupby['Rating'].apply(lambda x:np.log(x))"
   ]
  },
  {
   "cell_type": "code",
   "execution_count": 48,
   "metadata": {},
   "outputs": [
    {
     "data": {
      "text/plain": [
       "<matplotlib.axes._subplots.AxesSubplot at 0x1a1ca70390>"
      ]
     },
     "execution_count": 48,
     "metadata": {},
     "output_type": "execute_result"
    },
    {
     "data": {
      "image/png": "[encoded data removed]",
      "text/plain": [
       "<Figure size 432x288 with 1 Axes>"
      ]
     },
     "metadata": {
      "image/png": {
       "height": 280,
       "width": 416
      },
      "needs_background": "light"
     },
     "output_type": "display_data"
    }
   ],
   "source": [
    "sns.distplot(groupby['log_counts'],kde=False,bins=10, color='r', hist_kws=dict(alpha=0.7))"
   ]
  },
  {
   "cell_type": "code",
   "execution_count": 39,
   "metadata": {},
   "outputs": [
    {
     "data": {
      "text/plain": [
       "<matplotlib.axes._subplots.AxesSubplot at 0x1a19c9cc88>"
      ]
     },
     "execution_count": 39,
     "metadata": {},
     "output_type": "execute_result"
    },
    {
     "data": {
      "image/png": "[encoded data removed]",
      "text/plain": [
       "<Figure size 432x288 with 1 Axes>"
      ]
     },
     "metadata": {
      "image/png": {
       "height": 280,
       "width": 355
      },
      "needs_background": "light"
     },
     "output_type": "display_data"
    }
   ],
   "source": [
    "sns.boxplot(groupby['log_counts'], color ='r')"
   ]
  },
  {
   "cell_type": "markdown",
   "metadata": {},
   "source": [
    "# Modelling"
   ]
  },
  {
   "cell_type": "markdown",
   "metadata": {},
   "source": [
    "## <a class=\"anchor\" id=\"Rank\">Part I: Rank-Based Recommendations</a>"
   ]
  },
  {
   "cell_type": "code",
   "execution_count": 51,
   "metadata": {},
   "outputs": [],
   "source": [
    "\n",
    "food.rename(columns={'Name': 'Restaurant', 'Food_id': 'Restaurant_id'}, inplace=True)\n",
    "\n",
    "food_copy = food.copy()\n"
   ]
  },
  {
   "cell_type": "code",
   "execution_count": 52,
   "metadata": {},
   "outputs": [],
   "source": [
    "def create_ranked_df(users):\n",
    "        '''\n",
    "        INPUT\n",
    "        restuarants - the restuarants dataframe\n",
    "        reviews - the reviews dataframe\n",
    "        \n",
    "        OUTPUT\n",
    "        ranked_restuarants - a dataframe with restuarants that are sorted by highest avg ratinga and most reviews, \n",
    "        also must have more than 3 ratings\n",
    "        '''\n",
    "        \n",
    "        # Pull the average ratings and number of ratings for each restuarant\n",
    "        rest_ratings = users.groupby('Restaurant_id')['Rating'] #select restuarant id, gather and put all ratings for restuarant id\n",
    "        avg_ratings = rest_ratings.mean()\n",
    "        num_ratings = rest_ratings.count()\n",
    "        \n",
    "        # Add Dates\n",
    "        rating_count_df = pd.DataFrame({'Avg_rating': avg_ratings, 'Num_ratings': num_ratings})\n",
    "    \n",
    "        return rating_count_df\n",
    "\n",
    "        \n"
   ]
  },
  {
   "cell_type": "code",
   "execution_count": 53,
   "metadata": {},
   "outputs": [],
   "source": [
    "def apply_avg_last(x):\n",
    "    \n",
    "    rating_count_df = create_ranked_df(users)\n",
    "    \n",
    "    available_index = list( rating_count_df.index)\n",
    "    \n",
    "    if x in available_index:\n",
    "        \n",
    "        return rating_count_df['Avg_rating'].loc[rating_count_df.index == x].values[0]\n",
    "    \n",
    "    else:\n",
    "        \n",
    "        return np.nan"
   ]
  },
  {
   "cell_type": "code",
   "execution_count": 54,
   "metadata": {},
   "outputs": [],
   "source": [
    "def apply_num_last(x):\n",
    "    \n",
    "    rating_count_df = create_ranked_df(users)\n",
    "    \n",
    "    available_index = list( rating_count_df.index)\n",
    "    \n",
    "    if x in available_index:\n",
    "        \n",
    "        return rating_count_df['Num_ratings'].loc[rating_count_df.index == x].values[0]\n",
    "    \n",
    "    else:\n",
    "        \n",
    "        return np.nan"
   ]
  },
  {
   "cell_type": "code",
   "execution_count": null,
   "metadata": {},
   "outputs": [],
   "source": [
    "\n",
    "food_copy['Avg_rating'] = food_copy['Restaurant_id'].apply(apply_avg_last)\n",
    "\n",
    "food_copy['Num_rating'] = food_copy['Restaurant_id'].apply(apply_num_last)\n",
    "\n",
    "food_copy.to_csv('ranking_copy.csv')\n",
    "\n"
   ]
  },
  {
   "cell_type": "code",
   "execution_count": 56,
   "metadata": {},
   "outputs": [
    {
     "data": {
      "text/html": [
       "<div>\n",
       "<style scoped>\n",
       "    .dataframe tbody tr th:only-of-type {\n",
       "        vertical-align: middle;\n",
       "    }\n",
       "\n",
       "    .dataframe tbody tr th {\n",
       "        vertical-align: top;\n",
       "    }\n",
       "\n",
       "    .dataframe thead th {\n",
       "        text-align: right;\n",
       "    }\n",
       "</style>\n",
       "<table border=\"1\" class=\"dataframe\">\n",
       "  <thead>\n",
       "    <tr style=\"text-align: right;\">\n",
       "      <th></th>\n",
       "      <th>Restaurant</th>\n",
       "      <th>Restaurant_id</th>\n",
       "      <th>Review</th>\n",
       "      <th>Rating</th>\n",
       "      <th>Category 1</th>\n",
       "      <th>Category 2</th>\n",
       "      <th>Description</th>\n",
       "      <th>Mexican</th>\n",
       "      <th>Russian</th>\n",
       "      <th>South</th>\n",
       "      <th>...</th>\n",
       "      <th>Nepalese</th>\n",
       "      <th>Wine</th>\n",
       "      <th>Canadian</th>\n",
       "      <th>Indian</th>\n",
       "      <th>Tibetan</th>\n",
       "      <th>Sushi</th>\n",
       "      <th>Deli</th>\n",
       "      <th>Peruvian</th>\n",
       "      <th>Avg_rating</th>\n",
       "      <th>Num_rating</th>\n",
       "    </tr>\n",
       "  </thead>\n",
       "  <tbody>\n",
       "    <tr>\n",
       "      <th>0</th>\n",
       "      <td>Amrutha Lounge</td>\n",
       "      <td>1</td>\n",
       "      <td>425</td>\n",
       "      <td>5.0</td>\n",
       "      <td>Asian</td>\n",
       "      <td>Vegetarian</td>\n",
       "      <td>Indian Asian Healthy Vegetarian Friendly Vegan...</td>\n",
       "      <td>0</td>\n",
       "      <td>0</td>\n",
       "      <td>0</td>\n",
       "      <td>...</td>\n",
       "      <td>0</td>\n",
       "      <td>0</td>\n",
       "      <td>0</td>\n",
       "      <td>1</td>\n",
       "      <td>0</td>\n",
       "      <td>0</td>\n",
       "      <td>0</td>\n",
       "      <td>0</td>\n",
       "      <td>4.918919</td>\n",
       "      <td>407.0</td>\n",
       "    </tr>\n",
       "    <tr>\n",
       "      <th>1</th>\n",
       "      <td>Barge East</td>\n",
       "      <td>2</td>\n",
       "      <td>184</td>\n",
       "      <td>5.0</td>\n",
       "      <td>European</td>\n",
       "      <td>Vegetarian</td>\n",
       "      <td>European British Contemporary Fusion Vegetaria...</td>\n",
       "      <td>0</td>\n",
       "      <td>0</td>\n",
       "      <td>0</td>\n",
       "      <td>...</td>\n",
       "      <td>0</td>\n",
       "      <td>0</td>\n",
       "      <td>0</td>\n",
       "      <td>0</td>\n",
       "      <td>0</td>\n",
       "      <td>0</td>\n",
       "      <td>0</td>\n",
       "      <td>0</td>\n",
       "      <td>4.923077</td>\n",
       "      <td>182.0</td>\n",
       "    </tr>\n",
       "  </tbody>\n",
       "</table>\n",
       "<p>2 rows × 143 columns</p>\n",
       "</div>"
      ],
      "text/plain": [
       "       Restaurant  Restaurant_id  Review  Rating Category 1  Category 2  \\\n",
       "0  Amrutha Lounge              1     425     5.0      Asian  Vegetarian   \n",
       "1      Barge East              2     184     5.0   European  Vegetarian   \n",
       "\n",
       "                                         Description  Mexican  Russian  South  \\\n",
       "0  Indian Asian Healthy Vegetarian Friendly Vegan...        0        0      0   \n",
       "1  European British Contemporary Fusion Vegetaria...        0        0      0   \n",
       "\n",
       "   ...  Nepalese  Wine  Canadian  Indian  Tibetan  Sushi  Deli  Peruvian  \\\n",
       "0  ...         0     0         0       1        0      0     0         0   \n",
       "1  ...         0     0         0       0        0      0     0         0   \n",
       "\n",
       "   Avg_rating  Num_rating  \n",
       "0    4.918919       407.0  \n",
       "1    4.923077       182.0  \n",
       "\n",
       "[2 rows x 143 columns]"
      ]
     },
     "execution_count": 56,
     "metadata": {},
     "output_type": "execute_result"
    }
   ],
   "source": [
    "food_copy = pd.read_csv('ranking_copy.csv')\n",
    "\n",
    "del food_copy['Unnamed: 0']\n",
    "food_copy.head(2)"
   ]
  },
  {
   "cell_type": "code",
   "execution_count": 57,
   "metadata": {},
   "outputs": [],
   "source": [
    "\n",
    "# merge with the movies dataset\n",
    "        #movie_recs = movies.set_index('movie_id').join(rating_count_df)\n",
    "\n",
    "# sort by top avg rating and number of ratings\n",
    "\n",
    "def created_ranked_sorted():\n",
    "    \n",
    "    ranked_restaurants = food_copy.sort_values(['Avg_rating', 'Num_rating'], ascending=False)\n",
    "\n",
    "    # for edge cases - subset the movie list to those with only 5 or more reviews\n",
    "    ranked_restaurants = ranked_restaurants[ranked_restaurants['Num_rating'] > 4]\n",
    "        \n",
    "    return ranked_restaurants"
   ]
  },
  {
   "cell_type": "code",
   "execution_count": 58,
   "metadata": {},
   "outputs": [],
   "source": [
    "def popular_recommendations(user_id, n_top, ranked_restaurants):\n",
    "    '''\n",
    "    INPUT:\n",
    "    user_id - the user_id (str) of the individual you are making recommendations for\n",
    "    n_top - an integer of the number recommendations you want back\n",
    "    ranked_restaurants - a pandas dataframe of the already ranked Restaurants based on avg rating and count\n",
    "\n",
    "    OUTPUT:\n",
    "    top_restuarants - a list of the n_top recommended Restaurants by Restaurant title in order best to worst\n",
    "    '''\n",
    "\n",
    "    top_restuarants = list(ranked_restaurants['Restaurant'][:n_top])\n",
    "\n",
    "    return top_restuarants\n",
    "        \n",
    "\n",
    "\n",
    "\n"
   ]
  },
  {
   "cell_type": "code",
   "execution_count": 59,
   "metadata": {},
   "outputs": [
    {
     "data": {
      "text/html": [
       "<div>\n",
       "<style scoped>\n",
       "    .dataframe tbody tr th:only-of-type {\n",
       "        vertical-align: middle;\n",
       "    }\n",
       "\n",
       "    .dataframe tbody tr th {\n",
       "        vertical-align: top;\n",
       "    }\n",
       "\n",
       "    .dataframe thead th {\n",
       "        text-align: right;\n",
       "    }\n",
       "</style>\n",
       "<table border=\"1\" class=\"dataframe\">\n",
       "  <thead>\n",
       "    <tr style=\"text-align: right;\">\n",
       "      <th></th>\n",
       "      <th>Restaurant</th>\n",
       "      <th>Restaurant_id</th>\n",
       "      <th>Review</th>\n",
       "      <th>Rating</th>\n",
       "      <th>Category 1</th>\n",
       "      <th>Category 2</th>\n",
       "      <th>Description</th>\n",
       "      <th>Mexican</th>\n",
       "      <th>Russian</th>\n",
       "      <th>South</th>\n",
       "      <th>...</th>\n",
       "      <th>Nepalese</th>\n",
       "      <th>Wine</th>\n",
       "      <th>Canadian</th>\n",
       "      <th>Indian</th>\n",
       "      <th>Tibetan</th>\n",
       "      <th>Sushi</th>\n",
       "      <th>Deli</th>\n",
       "      <th>Peruvian</th>\n",
       "      <th>Avg_rating</th>\n",
       "      <th>Num_rating</th>\n",
       "    </tr>\n",
       "  </thead>\n",
       "  <tbody>\n",
       "    <tr>\n",
       "      <th>1609</th>\n",
       "      <td>Spanish Particular</td>\n",
       "      <td>1585</td>\n",
       "      <td>44</td>\n",
       "      <td>5.0</td>\n",
       "      <td>Mediterranean</td>\n",
       "      <td>Vegetarian</td>\n",
       "      <td>Mediterranean Spanish European Vegetarian Frie...</td>\n",
       "      <td>0</td>\n",
       "      <td>0</td>\n",
       "      <td>0</td>\n",
       "      <td>...</td>\n",
       "      <td>0</td>\n",
       "      <td>0</td>\n",
       "      <td>0</td>\n",
       "      <td>0</td>\n",
       "      <td>0</td>\n",
       "      <td>0</td>\n",
       "      <td>0</td>\n",
       "      <td>0</td>\n",
       "      <td>5.0</td>\n",
       "      <td>44.0</td>\n",
       "    </tr>\n",
       "    <tr>\n",
       "      <th>1142</th>\n",
       "      <td>Rotate</td>\n",
       "      <td>1129</td>\n",
       "      <td>41</td>\n",
       "      <td>5.0</td>\n",
       "      <td>General</td>\n",
       "      <td>Non-Vegetarian</td>\n",
       "      <td>Bar Cafe Asian Pub Taiwanese</td>\n",
       "      <td>0</td>\n",
       "      <td>0</td>\n",
       "      <td>0</td>\n",
       "      <td>...</td>\n",
       "      <td>0</td>\n",
       "      <td>0</td>\n",
       "      <td>0</td>\n",
       "      <td>0</td>\n",
       "      <td>0</td>\n",
       "      <td>0</td>\n",
       "      <td>0</td>\n",
       "      <td>0</td>\n",
       "      <td>5.0</td>\n",
       "      <td>41.0</td>\n",
       "    </tr>\n",
       "  </tbody>\n",
       "</table>\n",
       "<p>2 rows × 143 columns</p>\n",
       "</div>"
      ],
      "text/plain": [
       "              Restaurant  Restaurant_id  Review  Rating     Category 1  \\\n",
       "1609  Spanish Particular           1585      44     5.0  Mediterranean   \n",
       "1142              Rotate           1129      41     5.0        General   \n",
       "\n",
       "          Category 2                                        Description  \\\n",
       "1609      Vegetarian  Mediterranean Spanish European Vegetarian Frie...   \n",
       "1142  Non-Vegetarian                       Bar Cafe Asian Pub Taiwanese   \n",
       "\n",
       "      Mexican  Russian  South  ...  Nepalese  Wine  Canadian  Indian  Tibetan  \\\n",
       "1609        0        0      0  ...         0     0         0       0        0   \n",
       "1142        0        0      0  ...         0     0         0       0        0   \n",
       "\n",
       "      Sushi  Deli  Peruvian  Avg_rating  Num_rating  \n",
       "1609      0     0         0         5.0        44.0  \n",
       "1142      0     0         0         5.0        41.0  \n",
       "\n",
       "[2 rows x 143 columns]"
      ]
     },
     "execution_count": 59,
     "metadata": {},
     "output_type": "execute_result"
    }
   ],
   "source": [
    "created_ranked_sorted().head(2)"
   ]
  },
  {
   "cell_type": "code",
   "execution_count": 60,
   "metadata": {},
   "outputs": [
    {
     "name": "stdout",
     "output_type": "stream",
     "text": [
      " Top 5 Recommended for User 53968:\n",
      " ['Spanish Particular', 'Rotate', 'Companero', 'Slaw', 'Tummy Kom4ort Nigerian Restaurant (African Cuisine)']\n"
     ]
    }
   ],
   "source": [
    "# Rank-based Recommender Example\n",
    "\n",
    "ranked_restaurants = created_ranked_sorted() # only run this once - it is not fast\n",
    "\n",
    "# Top 5 restaurants recommended for user 53968\n",
    "recs_5_for_53968 = popular_recommendations('53968', 5, ranked_restaurants)\n",
    "\n",
    "# Top 20 restaurants recommended for user 8\n",
    "recs_20_for_8 = popular_recommendations('8', 10, ranked_restaurants)\n",
    "\n",
    "# Top 50 restaurants recommended for user 43\n",
    "recs_50_for_43 = popular_recommendations('43', 50, ranked_restaurants)\n",
    "\n",
    "# Top 100 restaurants recommended for user 70000\n",
    "recs_100_for_70000 = popular_recommendations('70000', 100, ranked_restaurants)\n",
    "\n",
    "print(' Top 5 Recommended for User 53968:\\n',recs_5_for_53968)"
   ]
  },
  {
   "cell_type": "code",
   "execution_count": 62,
   "metadata": {},
   "outputs": [],
   "source": [
    "def popular_recs_filtered(user_id, n_top, ranked_restaurants, cat1=None, cat2=None):\n",
    "    '''\n",
    "    INPUT:\n",
    "    user_id - the user_id (str) of the individual you are making recommendations for\n",
    "    n_top - an integer of the number recommendations you want back\n",
    "    ranked_restaurants - a pandas dataframe of the already ranked restaurants based on avg rating and count\n",
    "    cat1 - a list of strings with cuisines of restaurants\n",
    "    cat2 - a list of strings with food choices of restaurants\n",
    "    \n",
    "    OUTPUT:\n",
    "    ranked_restaurants - a list of the n_top recommended restaurants by restaurant title in order best to worst\n",
    "    '''\n",
    "    # Filter movies based on cat1 and cat2\n",
    "    if cat1 is not None:\n",
    "        num_cat1_match = ranked_restaurants[cat1].sum(axis=1)\n",
    "        ranked_restaurants = ranked_restaurants.loc[num_cat1_match > 0, :]\n",
    "        \n",
    "    if cat2 is not None:\n",
    "        num_cat2_match = ranked_restaurants[cat2].sum(axis=1)\n",
    "        ranked_restaurants = ranked_restaurants.loc[num_cat2_match > 0, :]\n",
    "            \n",
    "            \n",
    "    # create top movies list \n",
    "    top_restaurants = list(ranked_restaurants['Restaurant'][:n_top])\n",
    "\n",
    "    return top_restaurants\n",
    "\n"
   ]
  },
  {
   "cell_type": "code",
   "execution_count": 77,
   "metadata": {},
   "outputs": [],
   "source": [
    "\n",
    "# Top restaurants recommended for users based on categories=['British', 'Vegetarian']\n",
    "\n",
    "recs_5_for_user7_filtered = popular_recs_filtered('7', 5, ranked_restaurants, cat1=['British'])\n",
    "\n",
    "recs_5_for_user2_filtered = popular_recs_filtered('2', 5, ranked_restaurants, cat2=['Vegetarian'])\n",
    "\n"
   ]
  },
  {
   "cell_type": "code",
   "execution_count": 78,
   "metadata": {},
   "outputs": [
    {
     "data": {
      "text/plain": [
       "['Spanish Particular',\n",
       " 'Slaw',\n",
       " 'Tummy Kom4ort Nigerian Restaurant (African Cuisine)',\n",
       " 'Marcel & Sons',\n",
       " 'The Wagon @ cave']"
      ]
     },
     "execution_count": 78,
     "metadata": {},
     "output_type": "execute_result"
    }
   ],
   "source": [
    "recs_5_for_user2_filtered"
   ]
  },
  {
   "cell_type": "code",
   "execution_count": 79,
   "metadata": {},
   "outputs": [
    {
     "data": {
      "text/plain": [
       "['Slaw',\n",
       " 'Long & Short Coffee',\n",
       " 'Cart and Horses',\n",
       " 'The Wagon @ cave',\n",
       " 'Hodge Podge']"
      ]
     },
     "execution_count": 79,
     "metadata": {},
     "output_type": "execute_result"
    }
   ],
   "source": [
    "recs_5_for_user7_filtered"
   ]
  },
  {
   "cell_type": "code",
   "execution_count": null,
   "metadata": {},
   "outputs": [],
   "source": [
    "\n",
    "\n",
    "# notes\n",
    "# after this, it will be good to test the precision and recall\n",
    "# and also check similarity "
   ]
  },
  {
   "cell_type": "markdown",
   "metadata": {},
   "source": [
    "## <a class=\"anchor\" id=\"Rank\">Part II: Content-based Recommendations</a>"
   ]
  },
  {
   "cell_type": "code",
   "execution_count": 102,
   "metadata": {},
   "outputs": [
    {
     "data": {
      "text/plain": [
       "(16403, 7)"
      ]
     },
     "execution_count": 102,
     "metadata": {},
     "output_type": "execute_result"
    }
   ],
   "source": [
    "food.shape"
   ]
  },
  {
   "cell_type": "code",
   "execution_count": 60,
   "metadata": {},
   "outputs": [
    {
     "data": {
      "text/plain": [
       "(16403, 140)"
      ]
     },
     "execution_count": 60,
     "metadata": {},
     "output_type": "execute_result"
    }
   ],
   "source": [
    "del food['nan']\n",
    "food.shape"
   ]
  },
  {
   "cell_type": "code",
   "execution_count": 65,
   "metadata": {},
   "outputs": [
    {
     "name": "stdout",
     "output_type": "stream",
     "text": [
      "The number of food categories is 10.\n",
      "['Asian', 'European', 'General', 'Mediterranean', 'American', 'South American', 'African', 'Middle Eastern', 'Caribbean', 'Eastern European']\n"
     ]
    }
   ],
   "source": [
    "#Creating extra category for the food Cuisine Categories\n",
    "# Our unique set of food cuisines\n",
    "\n",
    "cuisines =list(food['Category 1'].unique())\n",
    "\n",
    "cuisines.remove(np.nan)\n",
    "print(\"The number of food categories is {}.\".format(len(cuisines)))\n",
    "print(cuisines)"
   ]
  },
  {
   "cell_type": "code",
   "execution_count": 69,
   "metadata": {},
   "outputs": [
    {
     "data": {
      "text/html": [
       "<div>\n",
       "<style scoped>\n",
       "    .dataframe tbody tr th:only-of-type {\n",
       "        vertical-align: middle;\n",
       "    }\n",
       "\n",
       "    .dataframe tbody tr th {\n",
       "        vertical-align: top;\n",
       "    }\n",
       "\n",
       "    .dataframe thead th {\n",
       "        text-align: right;\n",
       "    }\n",
       "</style>\n",
       "<table border=\"1\" class=\"dataframe\">\n",
       "  <thead>\n",
       "    <tr style=\"text-align: right;\">\n",
       "      <th></th>\n",
       "      <th>Restaurant</th>\n",
       "      <th>Restaurant_id</th>\n",
       "      <th>Review</th>\n",
       "      <th>Rating</th>\n",
       "      <th>Category 1</th>\n",
       "      <th>Category 2</th>\n",
       "      <th>Description</th>\n",
       "      <th>Eastern</th>\n",
       "      <th>Israeli</th>\n",
       "      <th>Polynesian</th>\n",
       "      <th>...</th>\n",
       "      <th>Hawaiian</th>\n",
       "      <th>Pakistani</th>\n",
       "      <th>Fusion</th>\n",
       "      <th>Swedish</th>\n",
       "      <th>Greek</th>\n",
       "      <th>Caucasian</th>\n",
       "      <th>General</th>\n",
       "      <th>South American</th>\n",
       "      <th>Middle Eastern</th>\n",
       "      <th>Eastern European</th>\n",
       "    </tr>\n",
       "  </thead>\n",
       "  <tbody>\n",
       "    <tr>\n",
       "      <th>0</th>\n",
       "      <td>Amrutha Lounge</td>\n",
       "      <td>1</td>\n",
       "      <td>425</td>\n",
       "      <td>5.0</td>\n",
       "      <td>Asian</td>\n",
       "      <td>Vegetarian</td>\n",
       "      <td>Indian Asian Healthy Vegetarian Friendly Vegan...</td>\n",
       "      <td>0</td>\n",
       "      <td>0</td>\n",
       "      <td>0</td>\n",
       "      <td>...</td>\n",
       "      <td>0</td>\n",
       "      <td>0</td>\n",
       "      <td>0</td>\n",
       "      <td>0</td>\n",
       "      <td>0</td>\n",
       "      <td>0</td>\n",
       "      <td>0</td>\n",
       "      <td>0</td>\n",
       "      <td>0</td>\n",
       "      <td>0</td>\n",
       "    </tr>\n",
       "    <tr>\n",
       "      <th>1</th>\n",
       "      <td>Barge East</td>\n",
       "      <td>2</td>\n",
       "      <td>184</td>\n",
       "      <td>5.0</td>\n",
       "      <td>European</td>\n",
       "      <td>Vegetarian</td>\n",
       "      <td>European British Contemporary Fusion Vegetaria...</td>\n",
       "      <td>0</td>\n",
       "      <td>0</td>\n",
       "      <td>0</td>\n",
       "      <td>...</td>\n",
       "      <td>0</td>\n",
       "      <td>0</td>\n",
       "      <td>1</td>\n",
       "      <td>0</td>\n",
       "      <td>0</td>\n",
       "      <td>0</td>\n",
       "      <td>0</td>\n",
       "      <td>0</td>\n",
       "      <td>0</td>\n",
       "      <td>0</td>\n",
       "    </tr>\n",
       "  </tbody>\n",
       "</table>\n",
       "<p>2 rows × 144 columns</p>\n",
       "</div>"
      ],
      "text/plain": [
       "       Restaurant  Restaurant_id  Review  Rating Category 1  Category 2  \\\n",
       "0  Amrutha Lounge              1     425     5.0      Asian  Vegetarian   \n",
       "1      Barge East              2     184     5.0   European  Vegetarian   \n",
       "\n",
       "                                         Description  Eastern  Israeli  \\\n",
       "0  Indian Asian Healthy Vegetarian Friendly Vegan...        0        0   \n",
       "1  European British Contemporary Fusion Vegetaria...        0        0   \n",
       "\n",
       "   Polynesian  ...  Hawaiian  Pakistani  Fusion  Swedish  Greek  Caucasian  \\\n",
       "0           0  ...         0          0       0        0      0          0   \n",
       "1           0  ...         0          0       1        0      0          0   \n",
       "\n",
       "   General  South American  Middle Eastern  Eastern European  \n",
       "0        0               0               0                 0  \n",
       "1        0               0               0                 0  \n",
       "\n",
       "[2 rows x 144 columns]"
      ]
     },
     "execution_count": 69,
     "metadata": {},
     "output_type": "execute_result"
    }
   ],
   "source": [
    "# Function to split and return values for columns\n",
    "def split_cuisines(cus):\n",
    "    try:\n",
    "        if cus.find(cuisine) >-1:\n",
    "            return 1\n",
    "        else:\n",
    "            return 0\n",
    "    except AttributeError:\n",
    "        return 0\n",
    "\n",
    "# Apply function for each category\n",
    "for cuisine in cuisines:        \n",
    "    food[cuisine] = food['Category 1'].apply(split_cuisines)\n",
    "    \n",
    "food.head(2)"
   ]
  },
  {
   "cell_type": "code",
   "execution_count": 70,
   "metadata": {},
   "outputs": [
    {
     "data": {
      "text/html": [
       "<div>\n",
       "<style scoped>\n",
       "    .dataframe tbody tr th:only-of-type {\n",
       "        vertical-align: middle;\n",
       "    }\n",
       "\n",
       "    .dataframe tbody tr th {\n",
       "        vertical-align: top;\n",
       "    }\n",
       "\n",
       "    .dataframe thead th {\n",
       "        text-align: right;\n",
       "    }\n",
       "</style>\n",
       "<table border=\"1\" class=\"dataframe\">\n",
       "  <thead>\n",
       "    <tr style=\"text-align: right;\">\n",
       "      <th></th>\n",
       "      <th>Restaurant</th>\n",
       "      <th>Restaurant_id</th>\n",
       "      <th>Eastern</th>\n",
       "      <th>Israeli</th>\n",
       "      <th>Polynesian</th>\n",
       "      <th>Lankan</th>\n",
       "      <th>Cafe</th>\n",
       "      <th>Swiss</th>\n",
       "      <th>Moroccan</th>\n",
       "      <th>Middle</th>\n",
       "      <th>...</th>\n",
       "      <th>Hawaiian</th>\n",
       "      <th>Pakistani</th>\n",
       "      <th>Fusion</th>\n",
       "      <th>Swedish</th>\n",
       "      <th>Greek</th>\n",
       "      <th>Caucasian</th>\n",
       "      <th>General</th>\n",
       "      <th>South American</th>\n",
       "      <th>Middle Eastern</th>\n",
       "      <th>Eastern European</th>\n",
       "    </tr>\n",
       "  </thead>\n",
       "  <tbody>\n",
       "    <tr>\n",
       "      <th>0</th>\n",
       "      <td>Amrutha Lounge</td>\n",
       "      <td>1</td>\n",
       "      <td>0</td>\n",
       "      <td>0</td>\n",
       "      <td>0</td>\n",
       "      <td>0</td>\n",
       "      <td>0</td>\n",
       "      <td>0</td>\n",
       "      <td>0</td>\n",
       "      <td>0</td>\n",
       "      <td>...</td>\n",
       "      <td>0</td>\n",
       "      <td>0</td>\n",
       "      <td>0</td>\n",
       "      <td>0</td>\n",
       "      <td>0</td>\n",
       "      <td>0</td>\n",
       "      <td>0</td>\n",
       "      <td>0</td>\n",
       "      <td>0</td>\n",
       "      <td>0</td>\n",
       "    </tr>\n",
       "    <tr>\n",
       "      <th>1</th>\n",
       "      <td>Barge East</td>\n",
       "      <td>2</td>\n",
       "      <td>0</td>\n",
       "      <td>0</td>\n",
       "      <td>0</td>\n",
       "      <td>0</td>\n",
       "      <td>0</td>\n",
       "      <td>0</td>\n",
       "      <td>0</td>\n",
       "      <td>0</td>\n",
       "      <td>...</td>\n",
       "      <td>0</td>\n",
       "      <td>0</td>\n",
       "      <td>1</td>\n",
       "      <td>0</td>\n",
       "      <td>0</td>\n",
       "      <td>0</td>\n",
       "      <td>0</td>\n",
       "      <td>0</td>\n",
       "      <td>0</td>\n",
       "      <td>0</td>\n",
       "    </tr>\n",
       "  </tbody>\n",
       "</table>\n",
       "<p>2 rows × 139 columns</p>\n",
       "</div>"
      ],
      "text/plain": [
       "       Restaurant  Restaurant_id  Eastern  Israeli  Polynesian  Lankan  Cafe  \\\n",
       "0  Amrutha Lounge              1        0        0           0       0     0   \n",
       "1      Barge East              2        0        0           0       0     0   \n",
       "\n",
       "   Swiss  Moroccan  Middle  ...  Hawaiian  Pakistani  Fusion  Swedish  Greek  \\\n",
       "0      0         0       0  ...         0          0       0        0      0   \n",
       "1      0         0       0  ...         0          0       1        0      0   \n",
       "\n",
       "   Caucasian  General  South American  Middle Eastern  Eastern European  \n",
       "0          0        0               0               0                 0  \n",
       "1          0        0               0               0                 0  \n",
       "\n",
       "[2 rows x 139 columns]"
      ]
     },
     "execution_count": 70,
     "metadata": {},
     "output_type": "execute_result"
    }
   ],
   "source": [
    "food_content_based = food.drop(['Review', 'Rating', 'Category 1', 'Category 2', 'Description' ], axis = 1)\n",
    "food_content_based.head(2)"
   ]
  },
  {
   "cell_type": "code",
   "execution_count": 71,
   "metadata": {},
   "outputs": [],
   "source": [
    "#Creating Content similairty using Dot Product-Based Similarity (Since all same scale - 1 & 0s)\n",
    "\n",
    "def content_similarity(food_content_based, Restaurant_id, m):\n",
    "    \n",
    "    #This function returns m similar restaurants for a given id\n",
    "    \n",
    "    Restaurant_idx = np.where(food_content_based['Restaurant_id'] == Restaurant_id)[0][0]\n",
    "\n",
    "    Restaurant_content = np.array(food_content_based.iloc[Restaurant_idx, 2:])\n",
    "    \n",
    "    all_Restaurant = np.array(food_content_based.iloc[:, 2:])\n",
    "    \n",
    "    dotprod = np.dot(Restaurant_content, all_Restaurant.T)\n",
    "    \n",
    "    similar_idxs = list(dotprod.argsort()[::-1])\n",
    "    \n",
    "    #Removing input Restaurant id from our content list\n",
    "    similar_idxs.remove(Restaurant_idx)\n",
    "    \n",
    "    similar_restaurants = list(food.iloc[similar_idxs, ]['Restaurant'])\n",
    "    \n",
    "    similar_description =  list (food.iloc[similar_idxs, ]['Description'])\n",
    "    \n",
    "    content_with_description = pd.DataFrame({'restaurants' : similar_restaurants, 'description' : similar_description})\n",
    "    \n",
    "    return similar_restaurants[:m], similar_description[:m], content_with_description[:m]\n",
    "\n"
   ]
  },
  {
   "cell_type": "code",
   "execution_count": 72,
   "metadata": {},
   "outputs": [],
   "source": [
    "#Given a restaurant id, we can pull restaurants with similar contents- Their names, description or dataframe containing both.\n",
    "\n",
    "recs_id = 9000\n",
    "recommendation_names, recommendation_Description, content_with_description = content_similarity(food_content_based, recs_id,10)"
   ]
  },
  {
   "cell_type": "code",
   "execution_count": 73,
   "metadata": {},
   "outputs": [
    {
     "name": "stdout",
     "output_type": "stream",
     "text": [
      "Piacere\n",
      "Cafe British Vegetarian Friendly\n",
      "\n",
      "\n"
     ]
    },
    {
     "data": {
      "text/html": [
       "<div>\n",
       "<style scoped>\n",
       "    .dataframe tbody tr th:only-of-type {\n",
       "        vertical-align: middle;\n",
       "    }\n",
       "\n",
       "    .dataframe tbody tr th {\n",
       "        vertical-align: top;\n",
       "    }\n",
       "\n",
       "    .dataframe thead th {\n",
       "        text-align: right;\n",
       "    }\n",
       "</style>\n",
       "<table border=\"1\" class=\"dataframe\">\n",
       "  <thead>\n",
       "    <tr style=\"text-align: right;\">\n",
       "      <th></th>\n",
       "      <th>restaurants</th>\n",
       "      <th>description</th>\n",
       "    </tr>\n",
       "  </thead>\n",
       "  <tbody>\n",
       "    <tr>\n",
       "      <th>0</th>\n",
       "      <td>Coco Momo</td>\n",
       "      <td>Bar Cafe European British Vegetarian Friendly ...</td>\n",
       "    </tr>\n",
       "    <tr>\n",
       "      <th>1</th>\n",
       "      <td>Saint Aymes</td>\n",
       "      <td>Cafe British Vegetarian Friendly</td>\n",
       "    </tr>\n",
       "    <tr>\n",
       "      <th>2</th>\n",
       "      <td>Giovanni's</td>\n",
       "      <td>Cafe British Italian Vegetarian Friendly</td>\n",
       "    </tr>\n",
       "    <tr>\n",
       "      <th>3</th>\n",
       "      <td>RA Grand Cafe</td>\n",
       "      <td>Cafe British Vegetarian Friendly Vegan Options</td>\n",
       "    </tr>\n",
       "    <tr>\n",
       "      <th>4</th>\n",
       "      <td>Baker &amp; Spice - Chelsea</td>\n",
       "      <td>Cafe British Vegetarian Friendly Gluten Free O...</td>\n",
       "    </tr>\n",
       "    <tr>\n",
       "      <th>5</th>\n",
       "      <td>Cafe Nuvo</td>\n",
       "      <td>Cafe British Vegetarian Friendly Vegan Options</td>\n",
       "    </tr>\n",
       "    <tr>\n",
       "      <th>6</th>\n",
       "      <td>Oxleas Wood Cafe</td>\n",
       "      <td>Cafe British Vegetarian Friendly</td>\n",
       "    </tr>\n",
       "    <tr>\n",
       "      <th>7</th>\n",
       "      <td>Pitfield</td>\n",
       "      <td>Cafe British Vegetarian Friendly Vegan Options</td>\n",
       "    </tr>\n",
       "    <tr>\n",
       "      <th>8</th>\n",
       "      <td>Cafe Maya</td>\n",
       "      <td>Cafe British Vegetarian Friendly Vegan Options...</td>\n",
       "    </tr>\n",
       "    <tr>\n",
       "      <th>9</th>\n",
       "      <td>Melrose and Morgan</td>\n",
       "      <td>Cafe British Deli Vegetarian Friendly</td>\n",
       "    </tr>\n",
       "  </tbody>\n",
       "</table>\n",
       "</div>"
      ],
      "text/plain": [
       "               restaurants                                        description\n",
       "0                Coco Momo  Bar Cafe European British Vegetarian Friendly ...\n",
       "1              Saint Aymes                   Cafe British Vegetarian Friendly\n",
       "2               Giovanni's           Cafe British Italian Vegetarian Friendly\n",
       "3            RA Grand Cafe     Cafe British Vegetarian Friendly Vegan Options\n",
       "4  Baker & Spice - Chelsea  Cafe British Vegetarian Friendly Gluten Free O...\n",
       "5                Cafe Nuvo     Cafe British Vegetarian Friendly Vegan Options\n",
       "6         Oxleas Wood Cafe                   Cafe British Vegetarian Friendly\n",
       "7                 Pitfield     Cafe British Vegetarian Friendly Vegan Options\n",
       "8                Cafe Maya  Cafe British Vegetarian Friendly Vegan Options...\n",
       "9       Melrose and Morgan              Cafe British Deli Vegetarian Friendly"
      ]
     },
     "execution_count": 73,
     "metadata": {},
     "output_type": "execute_result"
    }
   ],
   "source": [
    "#Test of content- Indicating the restaurant_id in our iloc indexing\n",
    "\n",
    "print(food['Restaurant'].loc[food.Restaurant_id == recs_id].values[0])\n",
    "print(food['Description'].loc[food.Restaurant_id == recs_id].values[0])\n",
    "print('\\n')\n",
    "content_with_description"
   ]
  },
  {
   "cell_type": "markdown",
   "metadata": {},
   "source": [
    "## <a class=\"anchor\" id=\"Rank\">Part III: Collaborative Filtering - Recommendations with Surprise</a>"
   ]
  },
  {
   "cell_type": "code",
   "execution_count": 1,
   "metadata": {},
   "outputs": [
    {
     "data": {
      "text/html": [
       "<div>\n",
       "<style scoped>\n",
       "    .dataframe tbody tr th:only-of-type {\n",
       "        vertical-align: middle;\n",
       "    }\n",
       "\n",
       "    .dataframe tbody tr th {\n",
       "        vertical-align: top;\n",
       "    }\n",
       "\n",
       "    .dataframe thead th {\n",
       "        text-align: right;\n",
       "    }\n",
       "</style>\n",
       "<table border=\"1\" class=\"dataframe\">\n",
       "  <thead>\n",
       "    <tr style=\"text-align: right;\">\n",
       "      <th></th>\n",
       "      <th>User_id</th>\n",
       "      <th>Restaurant_id</th>\n",
       "      <th>Rating</th>\n",
       "    </tr>\n",
       "  </thead>\n",
       "  <tbody>\n",
       "    <tr>\n",
       "      <th>0</th>\n",
       "      <td>1</td>\n",
       "      <td>3468</td>\n",
       "      <td>4.0</td>\n",
       "    </tr>\n",
       "    <tr>\n",
       "      <th>1</th>\n",
       "      <td>2</td>\n",
       "      <td>3468</td>\n",
       "      <td>2.0</td>\n",
       "    </tr>\n",
       "  </tbody>\n",
       "</table>\n",
       "</div>"
      ],
      "text/plain": [
       "   User_id  Restaurant_id  Rating\n",
       "0        1           3468     4.0\n",
       "1        2           3468     2.0"
      ]
     },
     "execution_count": 1,
     "metadata": {},
     "output_type": "execute_result"
    }
   ],
   "source": [
    "import pandas as pd\n",
    "import numpy as np\n",
    "import re\n",
    "import surprise as sur\n",
    "users = pd.read_csv('users.csv')\n",
    "del users['Unnamed: 0']\n",
    "users.head(2)"
   ]
  },
  {
   "cell_type": "code",
   "execution_count": 3,
   "metadata": {},
   "outputs": [],
   "source": [
    "# We have the option of only using users who have rated five times or more for the collaborative filtering\n",
    "\n",
    "users_5plus = users.groupby('User_id')['Rating'].filter(lambda x: len(x) >= 5)"
   ]
  },
  {
   "cell_type": "code",
   "execution_count": 4,
   "metadata": {},
   "outputs": [
    {
     "data": {
      "text/plain": [
       "(1532640,)"
      ]
     },
     "execution_count": 4,
     "metadata": {},
     "output_type": "execute_result"
    }
   ],
   "source": [
    "users.Rating.shape"
   ]
  },
  {
   "cell_type": "code",
   "execution_count": 5,
   "metadata": {},
   "outputs": [],
   "source": [
    "algo = sur.SVD()\n",
    "reader = sur.Reader(rating_scale=(1, 5))\n",
    "\n",
    "data = sur.Dataset.load_from_df(\n",
    "    users[['User_id', 'Restaurant_id', 'Rating']], reader)"
   ]
  },
  {
   "cell_type": "code",
   "execution_count": 6,
   "metadata": {},
   "outputs": [
    {
     "name": "stdout",
     "output_type": "stream",
     "text": [
      "1226112\n",
      "306528\n"
     ]
    }
   ],
   "source": [
    "# Train-test Split \n",
    "\n",
    "import random\n",
    "\n",
    "raw_ratings = data.raw_ratings\n",
    "np.random.seed(1)\n",
    "# shuffle ratings if you want\n",
    "random.shuffle(raw_ratings)\n",
    "\n",
    "# A = 90% of the data, B = 10% of the data\n",
    "threshold = int(.8 * len(raw_ratings))\n",
    "A_raw_ratings = raw_ratings[:threshold]\n",
    "B_raw_ratings = raw_ratings[threshold:]\n",
    "\n",
    "print(len(A_raw_ratings))\n",
    "print(len(B_raw_ratings))\n",
    "\n",
    "data.raw_ratings = A_raw_ratings  # data is now the set A"
   ]
  },
  {
   "cell_type": "code",
   "execution_count": 7,
   "metadata": {},
   "outputs": [],
   "source": [
    "# new import \n"
   ]
  },
  {
   "cell_type": "code",
   "execution_count": 8,
   "metadata": {},
   "outputs": [
    {
     "name": "stdout",
     "output_type": "stream",
     "text": [
      "Grid Search...\n"
     ]
    }
   ],
   "source": [
    "# Select your best algo with grid search.\n",
    "print('Grid Search...')\n",
    "param_grid = {'n_epochs': [5, 10], 'lr_all': [0.002, 0.005]}\n",
    "grid_search = sur.model_selection.GridSearchCV(sur.SVD,\n",
    "                                               param_grid,\n",
    "                                               measures=['rmse'],\n",
    "                                               cv=3,\n",
    "                                               refit=True)\n",
    "grid_search.fit(data)\n",
    "\n",
    "algo = grid_search.best_estimator['rmse']"
   ]
  },
  {
   "cell_type": "code",
   "execution_count": 9,
   "metadata": {},
   "outputs": [
    {
     "name": "stdout",
     "output_type": "stream",
     "text": [
      "Training score    RMSE: 0.9857\n"
     ]
    },
    {
     "data": {
      "text/plain": [
       "0.9857493531400184"
      ]
     },
     "execution_count": 9,
     "metadata": {},
     "output_type": "execute_result"
    }
   ],
   "source": [
    "\n",
    "# retrain on the whole set A\n",
    "trainset = data.build_full_trainset()\n",
    "algo.fit(trainset)\n",
    "\n",
    "# Compute score on training set\n",
    "trainset_build = trainset.build_testset()\n",
    "predictions_train = algo.test(trainset_build)\n",
    "print('Training score ', end='   ')\n",
    "sur.accuracy.rmse(predictions_train)"
   ]
  },
  {
   "cell_type": "code",
   "execution_count": 10,
   "metadata": {},
   "outputs": [
    {
     "name": "stdout",
     "output_type": "stream",
     "text": [
      "Test score (rated items)  RMSE: 1.1615\n"
     ]
    },
    {
     "data": {
      "text/plain": [
       "1.1614973653278833"
      ]
     },
     "execution_count": 10,
     "metadata": {},
     "output_type": "execute_result"
    }
   ],
   "source": [
    "\n",
    "\n",
    "# Compute score on rated test set\n",
    "testset = data.construct_testset(B_raw_ratings)  # testset is now the set B\n",
    "predictions_test = algo.test(testset)\n",
    "print('Test score (rated items) ', end=' ')\n",
    "sur.accuracy.rmse(predictions_test)"
   ]
  },
  {
   "cell_type": "code",
   "execution_count": 20,
   "metadata": {},
   "outputs": [],
   "source": [
    "predicted_rating = algo.predict('User_id', 'Restaurant_id')"
   ]
  },
  {
   "cell_type": "code",
   "execution_count": 21,
   "metadata": {},
   "outputs": [
    {
     "data": {
      "text/plain": [
       "Prediction(uid='User_id', iid='Restaurant_id', r_ui=None, est=4.007939731443783, details={'was_impossible': False})"
      ]
     },
     "execution_count": 21,
     "metadata": {},
     "output_type": "execute_result"
    }
   ],
   "source": [
    "predicted_rating"
   ]
  },
  {
   "cell_type": "code",
   "execution_count": 8,
   "metadata": {},
   "outputs": [
    {
     "data": {
      "text/html": [
       "<div>\n",
       "<style scoped>\n",
       "    .dataframe tbody tr th:only-of-type {\n",
       "        vertical-align: middle;\n",
       "    }\n",
       "\n",
       "    .dataframe tbody tr th {\n",
       "        vertical-align: top;\n",
       "    }\n",
       "\n",
       "    .dataframe thead th {\n",
       "        text-align: right;\n",
       "    }\n",
       "</style>\n",
       "<table border=\"1\" class=\"dataframe\">\n",
       "  <thead>\n",
       "    <tr style=\"text-align: right;\">\n",
       "      <th></th>\n",
       "      <th>test_rmse</th>\n",
       "      <th>test_mae</th>\n",
       "      <th>fit_time</th>\n",
       "      <th>test_time</th>\n",
       "    </tr>\n",
       "  </thead>\n",
       "  <tbody>\n",
       "    <tr>\n",
       "      <th>0</th>\n",
       "      <td>1.162213</td>\n",
       "      <td>0.907097</td>\n",
       "      <td>41.903487</td>\n",
       "      <td>2.580908</td>\n",
       "    </tr>\n",
       "    <tr>\n",
       "      <th>1</th>\n",
       "      <td>1.164951</td>\n",
       "      <td>0.907189</td>\n",
       "      <td>40.583754</td>\n",
       "      <td>2.388872</td>\n",
       "    </tr>\n",
       "    <tr>\n",
       "      <th>2</th>\n",
       "      <td>1.162572</td>\n",
       "      <td>0.906678</td>\n",
       "      <td>41.105378</td>\n",
       "      <td>3.979517</td>\n",
       "    </tr>\n",
       "    <tr>\n",
       "      <th>3</th>\n",
       "      <td>1.166102</td>\n",
       "      <td>0.908980</td>\n",
       "      <td>41.259456</td>\n",
       "      <td>4.029003</td>\n",
       "    </tr>\n",
       "    <tr>\n",
       "      <th>4</th>\n",
       "      <td>1.163442</td>\n",
       "      <td>0.908003</td>\n",
       "      <td>41.238984</td>\n",
       "      <td>2.411928</td>\n",
       "    </tr>\n",
       "  </tbody>\n",
       "</table>\n",
       "</div>"
      ],
      "text/plain": [
       "   test_rmse  test_mae   fit_time  test_time\n",
       "0   1.162213  0.907097  41.903487   2.580908\n",
       "1   1.164951  0.907189  40.583754   2.388872\n",
       "2   1.162572  0.906678  41.105378   3.979517\n",
       "3   1.166102  0.908980  41.259456   4.029003\n",
       "4   1.163442  0.908003  41.238984   2.411928"
      ]
     },
     "execution_count": 8,
     "metadata": {},
     "output_type": "execute_result"
    }
   ],
   "source": [
    "cv_results = sur.model_selection.cross_validate(\n",
    "    algo, data, measures=['RMSE', 'MAE'], cv=5)\n",
    "cv_dataframe = pd.DataFrame(cv_results)\n",
    "cv_dataframe"
   ]
  },
  {
   "cell_type": "code",
   "execution_count": 9,
   "metadata": {},
   "outputs": [
    {
     "data": {
      "text/plain": [
       "1.163856064408952"
      ]
     },
     "execution_count": 9,
     "metadata": {},
     "output_type": "execute_result"
    }
   ],
   "source": [
    "# Cross-Val Score of Model\n",
    "\n",
    "cv_dataframe.test_rmse.mean()"
   ]
  },
  {
   "cell_type": "code",
   "execution_count": 10,
   "metadata": {},
   "outputs": [],
   "source": [
    "from collections import defaultdict\n",
    "\n",
    "\n",
    "def precision_recall_at_k(predictions, k=10, threshold=3.5):\n",
    "    '''Return precision and recall at k metrics for each user.'''\n",
    "\n",
    "    # First map the predictions to each user.\n",
    "    user_est_true = defaultdict(list)\n",
    "    for uid, _, true_r, est, _ in predictions:\n",
    "        user_est_true[uid].append((est, true_r))\n",
    "\n",
    "    precisions = dict()\n",
    "    recalls = dict()\n",
    "    f1s = dict()\n",
    "    for uid, user_ratings in user_est_true.items():\n",
    "\n",
    "        # Sort user ratings by estimated value\n",
    "        user_ratings.sort(key=lambda x: x[0], reverse=True)\n",
    "\n",
    "        # Number of relevant items\n",
    "        n_rel = sum((true_r >= threshold) for (_, true_r) in user_ratings)\n",
    "\n",
    "        # Number of recommended items in top k\n",
    "        n_rec_k = sum((est >= threshold) for (est, _) in user_ratings[:k])\n",
    "\n",
    "        # Number of relevant and recommended items in top k\n",
    "        n_rel_and_rec_k = sum(((true_r >= threshold) and (est >= threshold))\n",
    "                              for (est, true_r) in user_ratings[:k])\n",
    "\n",
    "        # Precision@K: Proportion of recommended items that are relevant\n",
    "        precisions[uid] = n_rel_and_rec_k / n_rec_k if n_rec_k != 0 else 1\n",
    "\n",
    "        # Recall@K: Proportion of relevant items that are recommended\n",
    "        recalls[uid] = n_rel_and_rec_k / n_rel if n_rel != 0 else 1\n",
    "\n",
    "        # F1@K:\n",
    "        f1s[uid] = 2*precisions[uid]*recalls[uid] / \\\n",
    "            (precisions[uid]+recalls[uid]\n",
    "             ) if (precisions[uid]+recalls[uid]) != 0 else 1\n",
    "\n",
    "    return precisions, recalls, f1s"
   ]
  },
  {
   "cell_type": "code",
   "execution_count": 11,
   "metadata": {},
   "outputs": [
    {
     "name": "stdout",
     "output_type": "stream",
     "text": [
      "0.9569153107551919\n",
      "0.7678280312701565\n",
      "0.7640922315033734\n"
     ]
    }
   ],
   "source": [
    "precisions, recalls, f1s = precision_recall_at_k(\n",
    "    predictions_train, k=5, threshold=4)\n",
    "\n",
    "# Precision and recall can then be averaged over all users\n",
    "print(np.mean(list(precisions.values())))\n",
    "print(np.mean(list(recalls.values())))\n",
    "print(np.mean(list(f1s.values())))"
   ]
  },
  {
   "cell_type": "code",
   "execution_count": 12,
   "metadata": {},
   "outputs": [
    {
     "name": "stdout",
     "output_type": "stream",
     "text": [
      "0.9049418327906933\n",
      "0.7122960020500408\n",
      "0.6409856114512541\n"
     ]
    }
   ],
   "source": [
    "precisions, recalls, f1s = precision_recall_at_k(\n",
    "    predictions_test, k=5, threshold=4)\n",
    "\n",
    "# Precision and recall can then be averaged over all users\n",
    "print(np.mean(list(precisions.values())))\n",
    "print(np.mean(list(recalls.values())))\n",
    "print(np.mean(list(f1s.values())))"
   ]
  },
  {
   "cell_type": "code",
   "execution_count": 13,
   "metadata": {},
   "outputs": [],
   "source": [
    "from collections import defaultdict\n",
    "\n",
    "\n",
    "def get_top_n(predictions, n=10):\n",
    "    '''Return the top-N recommendation for each user from a set of predictions.\n",
    "\n",
    "    Args:\n",
    "        predictions(list of Prediction objects): The list of predictions, as\n",
    "            returned by the test method of an algorithm.\n",
    "        n(int): The number of recommendation to output for each user. Default\n",
    "            is 10.\n",
    "\n",
    "    Returns:\n",
    "    A dict where keys are user (raw) ids and values are lists of tuples:\n",
    "        [(raw item id, rating estimation), ...] of size n.\n",
    "    '''\n",
    "\n",
    "    # First map the predictions to each user.\n",
    "    top_n = defaultdict(list)\n",
    "    for uid, iid, true_r, est, _ in predictions:\n",
    "        top_n[uid].append((iid, est))\n",
    "\n",
    "    # Then sort the predictions for each user and retrieve the k highest ones.\n",
    "    for uid, user_ratings in top_n.items():\n",
    "        user_ratings.sort(key=lambda x: x[1], reverse=True)\n",
    "        top_n[uid] = user_ratings[:n]\n",
    "\n",
    "    return top_n"
   ]
  },
  {
   "cell_type": "code",
   "execution_count": 14,
   "metadata": {},
   "outputs": [
    {
     "data": {
      "text/plain": [
       "667755"
      ]
     },
     "execution_count": 14,
     "metadata": {},
     "output_type": "execute_result"
    }
   ],
   "source": [
    "top_n = {}\n",
    "top_n = get_top_n(predictions_train, n=10)\n",
    "len(top_n.keys())"
   ]
  },
  {
   "cell_type": "code",
   "execution_count": 15,
   "metadata": {},
   "outputs": [
    {
     "data": {
      "text/plain": [
       "1236961"
      ]
     },
     "execution_count": 15,
     "metadata": {},
     "output_type": "execute_result"
    }
   ],
   "source": [
    "top_n_list = []\n",
    "for key in top_n.keys():\n",
    "    for val in top_n[key]:\n",
    "        top_n_list.append([key, val[0], val[1]])\n",
    "        \n",
    "len(top_n_list)"
   ]
  },
  {
   "cell_type": "code",
   "execution_count": 16,
   "metadata": {},
   "outputs": [
    {
     "data": {
      "text/html": [
       "<div>\n",
       "<style scoped>\n",
       "    .dataframe tbody tr th:only-of-type {\n",
       "        vertical-align: middle;\n",
       "    }\n",
       "\n",
       "    .dataframe tbody tr th {\n",
       "        vertical-align: top;\n",
       "    }\n",
       "\n",
       "    .dataframe thead th {\n",
       "        text-align: right;\n",
       "    }\n",
       "</style>\n",
       "<table border=\"1\" class=\"dataframe\">\n",
       "  <thead>\n",
       "    <tr style=\"text-align: right;\">\n",
       "      <th></th>\n",
       "      <th>uid</th>\n",
       "      <th>iid</th>\n",
       "      <th>est</th>\n",
       "    </tr>\n",
       "  </thead>\n",
       "  <tbody>\n",
       "    <tr>\n",
       "      <th>0</th>\n",
       "      <td>729</td>\n",
       "      <td>70</td>\n",
       "      <td>4.402608</td>\n",
       "    </tr>\n",
       "    <tr>\n",
       "      <th>1</th>\n",
       "      <td>729</td>\n",
       "      <td>1570</td>\n",
       "      <td>4.342670</td>\n",
       "    </tr>\n",
       "    <tr>\n",
       "      <th>2</th>\n",
       "      <td>729</td>\n",
       "      <td>1570</td>\n",
       "      <td>4.342670</td>\n",
       "    </tr>\n",
       "    <tr>\n",
       "      <th>3</th>\n",
       "      <td>729</td>\n",
       "      <td>91</td>\n",
       "      <td>4.329615</td>\n",
       "    </tr>\n",
       "    <tr>\n",
       "      <th>4</th>\n",
       "      <td>729</td>\n",
       "      <td>91</td>\n",
       "      <td>4.329615</td>\n",
       "    </tr>\n",
       "  </tbody>\n",
       "</table>\n",
       "</div>"
      ],
      "text/plain": [
       "   uid   iid       est\n",
       "0  729    70  4.402608\n",
       "1  729  1570  4.342670\n",
       "2  729  1570  4.342670\n",
       "3  729    91  4.329615\n",
       "4  729    91  4.329615"
      ]
     },
     "execution_count": 16,
     "metadata": {},
     "output_type": "execute_result"
    }
   ],
   "source": [
    "df_top = pd.DataFrame(top_n_list, columns=['uid', 'iid', 'est'])\n",
    "df_top.head()"
   ]
  }
 ],
 "metadata": {
  "kernelspec": {
   "display_name": "Python 3",
   "language": "python",
   "name": "python3"
  },
  "language_info": {
   "codemirror_mode": {
    "name": "ipython",
    "version": 3
   },
   "file_extension": ".py",
   "mimetype": "text/x-python",
   "name": "python",
   "nbconvert_exporter": "python",
   "pygments_lexer": "ipython3",
   "version": "3.6.8"
  }
 },
 "nbformat": 4,
 "nbformat_minor": 2
}
